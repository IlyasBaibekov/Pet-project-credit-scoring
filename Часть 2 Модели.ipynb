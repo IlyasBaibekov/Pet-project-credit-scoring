{
 "cells": [
  {
   "cell_type": "code",
   "execution_count": 1,
   "id": "1ed0db6d-2190-4ef0-be12-22e2f329a14f",
   "metadata": {},
   "outputs": [],
   "source": [
    "import matplotlib.pyplot as plt\n",
    "import numpy as np\n",
    "import pandas as pd\n",
    "import seaborn as sns\n",
    "\n",
    "from sklearn.model_selection import train_test_split\n",
    "\n",
    "import warnings\n",
    "warnings.filterwarnings(\"ignore\")\n",
    "from sklearn.linear_model import LogisticRegression\n",
    "from sklearn.metrics import accuracy_score, precision_score, recall_score, roc_auc_score, mean_absolute_percentage_error, precision_recall_curve\n",
    "from sklearn.ensemble import RandomForestClassifier\n",
    "from sklearn.metrics import accuracy_score, precision_score, recall_score, roc_auc_score, mean_absolute_percentage_error\n",
    "from sklearn.model_selection import train_test_split\n",
    "from sklearn.tree import DecisionTreeClassifier, plot_tree\n",
    "from catboost import CatBoostClassifier\n",
    "from sklearn.preprocessing import StandardScaler\n",
    "\n",
    "import shap"
   ]
  },
  {
   "cell_type": "code",
   "execution_count": 2,
   "id": "bb4e8284-dd68-4cd7-9ff0-04a60399415c",
   "metadata": {},
   "outputs": [
    {
     "data": {
      "text/html": [
       "<div>\n",
       "<style scoped>\n",
       "    .dataframe tbody tr th:only-of-type {\n",
       "        vertical-align: middle;\n",
       "    }\n",
       "\n",
       "    .dataframe tbody tr th {\n",
       "        vertical-align: top;\n",
       "    }\n",
       "\n",
       "    .dataframe thead th {\n",
       "        text-align: right;\n",
       "    }\n",
       "</style>\n",
       "<table border=\"1\" class=\"dataframe\">\n",
       "  <thead>\n",
       "    <tr style=\"text-align: right;\">\n",
       "      <th></th>\n",
       "      <th>Loan_ID</th>\n",
       "      <th>Gender</th>\n",
       "      <th>Married</th>\n",
       "      <th>Dependents</th>\n",
       "      <th>Education</th>\n",
       "      <th>Self_Employed</th>\n",
       "      <th>ApplicantIncome</th>\n",
       "      <th>CoapplicantIncome</th>\n",
       "      <th>LoanAmount</th>\n",
       "      <th>Loan_Amount_Term</th>\n",
       "      <th>Credit_History</th>\n",
       "      <th>Property_Area</th>\n",
       "      <th>Loan_Status</th>\n",
       "    </tr>\n",
       "  </thead>\n",
       "  <tbody>\n",
       "    <tr>\n",
       "      <th>0</th>\n",
       "      <td>LP001002</td>\n",
       "      <td>Male</td>\n",
       "      <td>No</td>\n",
       "      <td>0</td>\n",
       "      <td>Graduate</td>\n",
       "      <td>No</td>\n",
       "      <td>5849</td>\n",
       "      <td>0.0</td>\n",
       "      <td>NaN</td>\n",
       "      <td>360.0</td>\n",
       "      <td>1.0</td>\n",
       "      <td>Urban</td>\n",
       "      <td>Y</td>\n",
       "    </tr>\n",
       "    <tr>\n",
       "      <th>1</th>\n",
       "      <td>LP001003</td>\n",
       "      <td>Male</td>\n",
       "      <td>Yes</td>\n",
       "      <td>1</td>\n",
       "      <td>Graduate</td>\n",
       "      <td>No</td>\n",
       "      <td>4583</td>\n",
       "      <td>1508.0</td>\n",
       "      <td>128.0</td>\n",
       "      <td>360.0</td>\n",
       "      <td>1.0</td>\n",
       "      <td>Rural</td>\n",
       "      <td>N</td>\n",
       "    </tr>\n",
       "    <tr>\n",
       "      <th>2</th>\n",
       "      <td>LP001005</td>\n",
       "      <td>Male</td>\n",
       "      <td>Yes</td>\n",
       "      <td>0</td>\n",
       "      <td>Graduate</td>\n",
       "      <td>Yes</td>\n",
       "      <td>3000</td>\n",
       "      <td>0.0</td>\n",
       "      <td>66.0</td>\n",
       "      <td>360.0</td>\n",
       "      <td>1.0</td>\n",
       "      <td>Urban</td>\n",
       "      <td>Y</td>\n",
       "    </tr>\n",
       "    <tr>\n",
       "      <th>3</th>\n",
       "      <td>LP001006</td>\n",
       "      <td>Male</td>\n",
       "      <td>Yes</td>\n",
       "      <td>0</td>\n",
       "      <td>Not Graduate</td>\n",
       "      <td>No</td>\n",
       "      <td>2583</td>\n",
       "      <td>2358.0</td>\n",
       "      <td>120.0</td>\n",
       "      <td>360.0</td>\n",
       "      <td>1.0</td>\n",
       "      <td>Urban</td>\n",
       "      <td>Y</td>\n",
       "    </tr>\n",
       "    <tr>\n",
       "      <th>4</th>\n",
       "      <td>LP001008</td>\n",
       "      <td>Male</td>\n",
       "      <td>No</td>\n",
       "      <td>0</td>\n",
       "      <td>Graduate</td>\n",
       "      <td>No</td>\n",
       "      <td>6000</td>\n",
       "      <td>0.0</td>\n",
       "      <td>141.0</td>\n",
       "      <td>360.0</td>\n",
       "      <td>1.0</td>\n",
       "      <td>Urban</td>\n",
       "      <td>Y</td>\n",
       "    </tr>\n",
       "  </tbody>\n",
       "</table>\n",
       "</div>"
      ],
      "text/plain": [
       "    Loan_ID Gender Married Dependents     Education Self_Employed  \\\n",
       "0  LP001002   Male      No          0      Graduate            No   \n",
       "1  LP001003   Male     Yes          1      Graduate            No   \n",
       "2  LP001005   Male     Yes          0      Graduate           Yes   \n",
       "3  LP001006   Male     Yes          0  Not Graduate            No   \n",
       "4  LP001008   Male      No          0      Graduate            No   \n",
       "\n",
       "   ApplicantIncome  CoapplicantIncome  LoanAmount  Loan_Amount_Term  \\\n",
       "0             5849                0.0         NaN             360.0   \n",
       "1             4583             1508.0       128.0             360.0   \n",
       "2             3000                0.0        66.0             360.0   \n",
       "3             2583             2358.0       120.0             360.0   \n",
       "4             6000                0.0       141.0             360.0   \n",
       "\n",
       "   Credit_History Property_Area Loan_Status  \n",
       "0             1.0         Urban           Y  \n",
       "1             1.0         Rural           N  \n",
       "2             1.0         Urban           Y  \n",
       "3             1.0         Urban           Y  \n",
       "4             1.0         Urban           Y  "
      ]
     },
     "execution_count": 2,
     "metadata": {},
     "output_type": "execute_result"
    }
   ],
   "source": [
    "data = pd.read_csv('dataset.csv')\n",
    "data.head(5)"
   ]
  },
  {
   "cell_type": "markdown",
   "id": "1d6df7e1-a18f-4845-b0bd-a49eccab39a2",
   "metadata": {},
   "source": [
    "## Почистим данные от пропусков  🧹🦆"
   ]
  },
  {
   "cell_type": "code",
   "execution_count": 3,
   "id": "79164c56-c100-4371-8e35-e0ac053ba93d",
   "metadata": {},
   "outputs": [
    {
     "name": "stdout",
     "output_type": "stream",
     "text": [
      "<class 'pandas.core.frame.DataFrame'>\n",
      "RangeIndex: 614 entries, 0 to 613\n",
      "Data columns (total 13 columns):\n",
      " #   Column             Non-Null Count  Dtype  \n",
      "---  ------             --------------  -----  \n",
      " 0   Loan_ID            614 non-null    object \n",
      " 1   Gender             601 non-null    object \n",
      " 2   Married            611 non-null    object \n",
      " 3   Dependents         599 non-null    object \n",
      " 4   Education          614 non-null    object \n",
      " 5   Self_Employed      582 non-null    object \n",
      " 6   ApplicantIncome    614 non-null    int64  \n",
      " 7   CoapplicantIncome  614 non-null    float64\n",
      " 8   LoanAmount         592 non-null    float64\n",
      " 9   Loan_Amount_Term   600 non-null    float64\n",
      " 10  Credit_History     564 non-null    float64\n",
      " 11  Property_Area      614 non-null    object \n",
      " 12  Loan_Status        614 non-null    object \n",
      "dtypes: float64(4), int64(1), object(8)\n",
      "memory usage: 62.5+ KB\n"
     ]
    }
   ],
   "source": [
    "data.info()"
   ]
  },
  {
   "cell_type": "code",
   "execution_count": 4,
   "id": "65acda3b-abde-45a9-9e6e-a30ace328095",
   "metadata": {},
   "outputs": [],
   "source": [
    "data['Gender'] = data['Gender'].fillna('Male')\n",
    "data['Married'] = data['Married'].fillna('Yes')\n",
    "data['Dependents'] = data['Dependents'].fillna('0')\n",
    "data['Self_Employed'] = data['Self_Employed'].fillna('No')\n",
    "data['LoanAmount'] = data['LoanAmount'].fillna(150)\n",
    "data['Loan_Amount_Term'] = data['Loan_Amount_Term'].fillna(360)\n",
    "data['Credit_History'] = data['Credit_History'].fillna(1)"
   ]
  },
  {
   "cell_type": "code",
   "execution_count": 5,
   "id": "8c05e660-eaa8-4eaf-9864-6d8f9ff34088",
   "metadata": {},
   "outputs": [
    {
     "data": {
      "text/html": [
       "<div>\n",
       "<style scoped>\n",
       "    .dataframe tbody tr th:only-of-type {\n",
       "        vertical-align: middle;\n",
       "    }\n",
       "\n",
       "    .dataframe tbody tr th {\n",
       "        vertical-align: top;\n",
       "    }\n",
       "\n",
       "    .dataframe thead th {\n",
       "        text-align: right;\n",
       "    }\n",
       "</style>\n",
       "<table border=\"1\" class=\"dataframe\">\n",
       "  <thead>\n",
       "    <tr style=\"text-align: right;\">\n",
       "      <th></th>\n",
       "      <th>Loan_ID</th>\n",
       "      <th>ApplicantIncome</th>\n",
       "      <th>CoapplicantIncome</th>\n",
       "      <th>LoanAmount</th>\n",
       "      <th>Loan_Amount_Term</th>\n",
       "      <th>Credit_History</th>\n",
       "      <th>Gender_Male</th>\n",
       "      <th>Married_Yes</th>\n",
       "      <th>Dependents_1</th>\n",
       "      <th>Dependents_2</th>\n",
       "      <th>Dependents_3+</th>\n",
       "      <th>Education_Not Graduate</th>\n",
       "      <th>Self_Employed_Yes</th>\n",
       "      <th>Property_Area_Semiurban</th>\n",
       "      <th>Property_Area_Urban</th>\n",
       "      <th>Loan_Status_Y</th>\n",
       "    </tr>\n",
       "  </thead>\n",
       "  <tbody>\n",
       "    <tr>\n",
       "      <th>0</th>\n",
       "      <td>LP001002</td>\n",
       "      <td>5849</td>\n",
       "      <td>0.0</td>\n",
       "      <td>150.0</td>\n",
       "      <td>360.0</td>\n",
       "      <td>1.0</td>\n",
       "      <td>True</td>\n",
       "      <td>False</td>\n",
       "      <td>False</td>\n",
       "      <td>False</td>\n",
       "      <td>False</td>\n",
       "      <td>False</td>\n",
       "      <td>False</td>\n",
       "      <td>False</td>\n",
       "      <td>True</td>\n",
       "      <td>True</td>\n",
       "    </tr>\n",
       "  </tbody>\n",
       "</table>\n",
       "</div>"
      ],
      "text/plain": [
       "    Loan_ID  ApplicantIncome  CoapplicantIncome  LoanAmount  Loan_Amount_Term  \\\n",
       "0  LP001002             5849                0.0       150.0             360.0   \n",
       "\n",
       "   Credit_History  Gender_Male  Married_Yes  Dependents_1  Dependents_2  \\\n",
       "0             1.0         True        False         False         False   \n",
       "\n",
       "   Dependents_3+  Education_Not Graduate  Self_Employed_Yes  \\\n",
       "0          False                   False              False   \n",
       "\n",
       "   Property_Area_Semiurban  Property_Area_Urban  Loan_Status_Y  \n",
       "0                    False                 True           True  "
      ]
     },
     "execution_count": 5,
     "metadata": {},
     "output_type": "execute_result"
    }
   ],
   "source": [
    "data = pd.get_dummies(data, columns=['Gender', 'Married','Dependents', 'Education','Self_Employed','Property_Area','Loan_Status'], drop_first = True)\n",
    "data.head(1)"
   ]
  },
  {
   "cell_type": "code",
   "execution_count": 6,
   "id": "2543bde0-2b20-42a4-b11f-b6ed1ff80599",
   "metadata": {},
   "outputs": [],
   "source": [
    "y = data['Loan_Status_Y']\n",
    "data = data.drop(['Loan_Status_Y','Loan_ID'], axis = 1)"
   ]
  },
  {
   "cell_type": "markdown",
   "id": "51760aa2-2158-44cb-8c78-6c3a1c229991",
   "metadata": {},
   "source": [
    "## Обучим логистическую регрессию, подберем пороги и проанализируем результаты"
   ]
  },
  {
   "cell_type": "code",
   "execution_count": 7,
   "id": "9d631a81-45c4-458e-b0d6-91533802a7da",
   "metadata": {},
   "outputs": [],
   "source": [
    "x_train, x_test, y_train, y_test = train_test_split(data, y, test_size = 0.2, random_state = 42)\n",
    "# Нормализация данных\n",
    "scaler = StandardScaler()\n",
    "x_train = scaler.fit_transform(x_train)\n",
    "x_test = scaler.transform(x_test)\n",
    "\n",
    "model = LogisticRegression() #создание модели\n",
    "model.fit(x_train, y_train) #обучение на тренировочном наборе\n",
    "\n",
    "# Получение вероятностей предсказаний\n",
    "y_pred_proba = model.predict_proba(x_test)[:, 1]  # Вероятности положительного класса"
   ]
  },
  {
   "cell_type": "code",
   "execution_count": 8,
   "id": "d19fc3be-0e5e-4f61-91c2-94638a8af9a4",
   "metadata": {},
   "outputs": [
    {
     "data": {
      "image/png": "[encoded data removed]",
      "text/plain": [
       "<Figure size 640x480 with 1 Axes>"
      ]
     },
     "metadata": {},
     "output_type": "display_data"
    }
   ],
   "source": [
    "precision, recall, thresholds = precision_recall_curve(y_test, y_pred_proba)\n",
    "\n",
    "plt.plot(recall, precision, label = 'Precisio-recall curve')\n",
    "plt.title('Precisio-recall curve')\n",
    "plt.xlabel('recall')\n",
    "plt.ylabel('precision')\n",
    "plt.xlim([0, 1])\n",
    "plt.ylim([0, 1])\n",
    "plt.show()"
   ]
  },
  {
   "cell_type": "markdown",
   "id": "0248cff8-ed35-48eb-bad7-a8888e89e417",
   "metadata": {},
   "source": [
    "#### Попробуем разные пороги"
   ]
  },
  {
   "cell_type": "code",
   "execution_count": 9,
   "id": "b4f304d9-304d-48b8-93a4-79981c9ae75d",
   "metadata": {},
   "outputs": [
    {
     "name": "stdout",
     "output_type": "stream",
     "text": [
      "AUC-ROC: 0.75\n",
      "Precision с порогом: 0.8409090909090909\n",
      "Recall с порогом: 0.4625\n"
     ]
    }
   ],
   "source": [
    "threshold = 0.84\n",
    "y_pred = (y_pred_proba >= threshold).astype(int)\n",
    "\n",
    "# Оценка модели\n",
    "roc_auc = roc_auc_score(y_test, y_pred_proba)\n",
    "print(f'AUC-ROC: {roc_auc}')\n",
    "\n",
    "precision = precision_score(y_test, y_pred)\n",
    "print(f'Precision с порогом: {precision}')\n",
    "\n",
    "recall = recall_score(y_test, y_pred)\n",
    "print(f'Recall с порогом: {recall}')\n",
    "\n",
    "good_model = model"
   ]
  },
  {
   "cell_type": "code",
   "execution_count": 10,
   "id": "f6dfc582-4cea-41b4-bde8-230217a7ace7",
   "metadata": {},
   "outputs": [
    {
     "name": "stdout",
     "output_type": "stream",
     "text": [
      "AUC-ROC: 0.75\n",
      "Precision с порогом: 0.7207207207207207\n",
      "Recall с порогом: 1.0\n"
     ]
    }
   ],
   "source": [
    "threshold = 0.11\n",
    "y_pred = (y_pred_proba >= threshold).astype(int)\n",
    "\n",
    "# Оценка модели\n",
    "roc_auc = roc_auc_score(y_test, y_pred_proba)\n",
    "print(f'AUC-ROC: {roc_auc}')\n",
    "\n",
    "precision = precision_score(y_test, y_pred)\n",
    "print(f'Precision с порогом: {precision}')\n",
    "\n",
    "recall = recall_score(y_test, y_pred)\n",
    "print(f'Recall с порогом: {recall}')"
   ]
  },
  {
   "cell_type": "markdown",
   "id": "91b19065-98fc-41f6-b678-a0add7cb6be5",
   "metadata": {},
   "source": [
    "#### Нашли пороги, при которых достигается максимальное значение precision и recall.\n",
    "С первым порогом вопросов не возникает, примерно 84% людей вернут кредиты, что неплохо, однако поймать мы смогли только 46% из общего количества.\n",
    "\n",
    "Во втором случае мы выдаем кредиты почти что всем людям, совершенно логично, что мы находим всех тех, кто вернет кредит, однако, также мы натыкаемся на плохих заемщиков. Почему же тогда точность такая высокая? Все очень просто - по статистике примерно 70% людей возвращают кредиты. Данный порог может показаться весьма сомнительным, однако, по графику видно, что для recall от 0.5 до 1 precision практически не меняется. Если издержки при невозвратах не очень велики, то, возможно, действительно неплохим решением будет выдавать кредиты почти всем желающим. На стороне этого довода и модель и статистика"
   ]
  },
  {
   "cell_type": "code",
   "execution_count": 11,
   "id": "14856d74-73c9-46ba-a032-27da83412ae9",
   "metadata": {},
   "outputs": [],
   "source": [
    "x_train, x_test, y_train, y_test = train_test_split(data, y, test_size = 0.2, random_state = 42)\n",
    "\n",
    "model = LogisticRegression() #создание модели\n",
    "model.fit(x_train, y_train) #обучение на тренировочном наборе\n",
    "\n",
    "# Получение вероятностей предсказаний\n",
    "y_pred_proba = model.predict_proba(x_test)[:, 1]  # Вероятности положительного класса"
   ]
  },
  {
   "cell_type": "code",
   "execution_count": 12,
   "id": "06a1faf6-029a-4a60-9c82-ef064d8f952a",
   "metadata": {},
   "outputs": [
    {
     "data": {
      "image/png": "[encoded data removed]",
      "text/plain": [
       "<Figure size 640x480 with 1 Axes>"
      ]
     },
     "metadata": {},
     "output_type": "display_data"
    }
   ],
   "source": [
    "precision, recall, thresholds = precision_recall_curve(y_test, y_pred_proba)\n",
    "\n",
    "plt.plot(recall, precision, label = 'Precisio-recall curve')\n",
    "plt.title('Precisio-recall curve')\n",
    "plt.xlabel('recall')\n",
    "plt.ylabel('precision')\n",
    "plt.xlim([0, 1])\n",
    "plt.ylim([0, 1.01])\n",
    "plt.show()"
   ]
  },
  {
   "cell_type": "code",
   "execution_count": 13,
   "id": "3cc4159a-5a44-4a7a-9e0b-4a39aa350b96",
   "metadata": {},
   "outputs": [
    {
     "name": "stdout",
     "output_type": "stream",
     "text": [
      "AUC-ROC: 0.7761627906976745\n",
      "Precision с порогом: 0.9523809523809523\n",
      "Recall с порогом: 0.25\n"
     ]
    }
   ],
   "source": [
    "threshold = 0.86\n",
    "y_pred = (y_pred_proba >= threshold).astype(int)\n",
    "\n",
    "# Оценка модели\n",
    "roc_auc = roc_auc_score(y_test, y_pred_proba)\n",
    "print(f'AUC-ROC: {roc_auc}')\n",
    "\n",
    "precision = precision_score(y_test, y_pred)\n",
    "print(f'Precision с порогом: {precision}')\n",
    "\n",
    "recall = recall_score(y_test, y_pred)\n",
    "print(f'Recall с порогом: {recall}')"
   ]
  },
  {
   "cell_type": "markdown",
   "id": "406d7b3b-6ef6-4efe-9f4c-e713a2dc76f6",
   "metadata": {},
   "source": [
    "### Сравним 2 модели \n",
    "Вторая модель (данные не были нормализованы) получила более хороший результат по метрике precision - на целых 10% больше! По recall лучший показатель примерно такой же, как и у первой модели. Мы все еще видим, что прри изменении recall от 0.5 до 1.0 точность почти никак не изменяется.\n",
    "\n",
    "Может показаться, что вторая модель лучше, но не стоит торопиться. У второй модели высокая точность, но ужасно низкий recall - всего 0.25. \n",
    "\n",
    "Можем прикинуть, что из сотни подающихся примерно 70 человек смогут расплатиться по долгам. Первая модель одобрит кредит 42 людям, а вот вторая всего лишь 24-м. Различия весьма существенные, хотя во втором случае мы почти наверняка знаем, что кредит вернут, тем не менее, мы упускаем почти половину возможностей. Безусловно, на практике бывают случаи, когда каждый банкрот очень больно ударяет по доходам банка, но в случае с микрокредитной организацией такого, скорее всего, ожидать не следует"
   ]
  },
  {
   "cell_type": "markdown",
   "id": "c384a19b-eb94-4c62-bb77-a4d8811eb072",
   "metadata": {},
   "source": [
    "## Оценим важность признаков"
   ]
  },
  {
   "cell_type": "code",
   "execution_count": 14,
   "id": "d84624f0-692e-4f97-a349-22cfdcd11b31",
   "metadata": {},
   "outputs": [
    {
     "data": {
      "text/plain": [
       "array([[-0.01765927, -0.16041852, -0.16962475,  0.01360042,  1.34015587,\n",
       "        -0.03538027,  0.32746236, -0.18595577,  0.11748895,  0.13305214,\n",
       "        -0.14412974,  0.04659394,  0.47476662,  0.124522  ]])"
      ]
     },
     "execution_count": 14,
     "metadata": {},
     "output_type": "execute_result"
    }
   ],
   "source": [
    "good_model.coef_"
   ]
  },
  {
   "cell_type": "code",
   "execution_count": 15,
   "id": "aea71ec2-6858-40c0-98f6-eb0a2f47b743",
   "metadata": {},
   "outputs": [
    {
     "data": {
      "image/png": "[encoded data removed]",
      "text/plain": [
       "<Figure size 800x710 with 2 Axes>"
      ]
     },
     "metadata": {},
     "output_type": "display_data"
    }
   ],
   "source": [
    "x_train, x_test, y_train, y_test = train_test_split(data, y, test_size = 0.2, random_state = 42)\n",
    "# Нормализация данных\n",
    "scaler = StandardScaler()\n",
    "x_train = scaler.fit_transform(x_train)\n",
    "x_test = scaler.transform(x_test)\n",
    "\n",
    "model = LogisticRegression() #создание модели\n",
    "model.fit(x_train, y_train) #обучение на тренировочном наборe\n",
    "\n",
    "explainer = shap.Explainer(model, x_train)\n",
    "shap_values = explainer(x_test)\n",
    "\n",
    "# Визуализация важности признаков\n",
    "shap.summary_plot(shap_values, x_test)"
   ]
  },
  {
   "cell_type": "markdown",
   "id": "60b5b888-f1e2-4d14-a718-f95233d2a2b8",
   "metadata": {},
   "source": [
    "Видно, что наиболее важными признаками являются: наличие кредитной истории, проживание в полугородской среде и нахождение в браке. То есть, идеальный кандидат на выдачу кредита - знакомый банку клиент, находящийся в браке и проживающий за городом в поселке. \n",
    "\n",
    "Это подтверждается и коэффициентами логистической регрессии"
   ]
  },
  {
   "cell_type": "markdown",
   "id": "89565097-ef1b-4087-b301-d020150c1d65",
   "metadata": {},
   "source": [
    "## Посмотрим на разных, придуманных клиентов "
   ]
  },
  {
   "cell_type": "code",
   "execution_count": 16,
   "id": "9ac4c091-4437-46ec-9e65-51ae8f7ca7c9",
   "metadata": {},
   "outputs": [
    {
     "name": "stdout",
     "output_type": "stream",
     "text": [
      "[0.93715074]\n"
     ]
    }
   ],
   "source": [
    "example_data = {\n",
    "'ApplicantIncome': \t[3000],\n",
    "'CoapplicantIncome': [500],\n",
    "'LoanAmount': [100],\n",
    "'Loan_Amount_Term': [360],\n",
    "'Credit_History': [1],\n",
    "'Gender_Male': [1],\n",
    "'Married_Yes': [1],\n",
    "'Dependents_1':\t[0],\n",
    "'Dependents_2': [0],\n",
    "'Dependents_3+': [1],\n",
    "'Education_Not Graduate': [1],\n",
    "'Self_Employed_Yes': [1],\n",
    "'Property_Area_Semiurban': [1],\t\n",
    "'Property_Area_Urban': [0]\n",
    "}\n",
    "\n",
    "example_df = pd.DataFrame(example_data)\n",
    "example_df = scaler.transform(example_df)\n",
    "\n",
    "y_pred_proba = good_model.predict_proba(example_df)[:, 1] \n",
    "print(y_pred_proba)"
   ]
  },
  {
   "cell_type": "code",
   "execution_count": 17,
   "id": "c704469f-1666-48a0-8a77-82375335c17f",
   "metadata": {},
   "outputs": [
    {
     "name": "stdout",
     "output_type": "stream",
     "text": [
      "[0.94226371]\n"
     ]
    }
   ],
   "source": [
    "example_data = {\n",
    "'ApplicantIncome': \t[3000],\n",
    "'CoapplicantIncome': [500],\n",
    "'LoanAmount': [100],\n",
    "'Loan_Amount_Term': [360],\n",
    "'Credit_History': [1],\n",
    "'Gender_Male': [0],\n",
    "'Married_Yes': [1],\n",
    "'Dependents_1':\t[0],\n",
    "'Dependents_2': [0],\n",
    "'Dependents_3+': [1],\n",
    "'Education_Not Graduate': [1],\n",
    "'Self_Employed_Yes': [1],\n",
    "'Property_Area_Semiurban': [1],\t\n",
    "'Property_Area_Urban': [0]\n",
    "}\n",
    "\n",
    "example_df = pd.DataFrame(example_data)\n",
    "example_df = scaler.transform(example_df)\n",
    "\n",
    "y_pred_proba = good_model.predict_proba(example_df)[:, 1] \n",
    "print(y_pred_proba)"
   ]
  },
  {
   "cell_type": "markdown",
   "id": "fc8b8ce2-8049-47ea-b378-ee04f211e22e",
   "metadata": {},
   "source": [
    "Типичный житель дачного поселка, у которого есть семья. Ему модель отдает наибольшее предпочтение. \n",
    "\n",
    "Удивительный факт: женщины для модели немного более предпочтительны, чем мужчины. Но разница невелика, так что, как мы и выясняли в ноутбуке с анализом, оба пола равнозначны"
   ]
  },
  {
   "cell_type": "code",
   "execution_count": 18,
   "id": "856fa96f-974f-4019-9248-3d9b35cbdcd3",
   "metadata": {},
   "outputs": [
    {
     "name": "stdout",
     "output_type": "stream",
     "text": [
      "[0.83631794]\n"
     ]
    }
   ],
   "source": [
    "example_data = {\n",
    "'ApplicantIncome': \t[3000],\n",
    "'CoapplicantIncome': [500],\n",
    "'LoanAmount': [100],\n",
    "'Loan_Amount_Term': [360],\n",
    "'Credit_History': [1],\n",
    "'Gender_Male': [0],\n",
    "'Married_Yes': [0],\n",
    "'Dependents_1':\t[0],\n",
    "'Dependents_2': [0],\n",
    "'Dependents_3+': [0],\n",
    "'Education_Not Graduate': [1],\n",
    "'Self_Employed_Yes': [1],\n",
    "'Property_Area_Semiurban': [1],\t\n",
    "'Property_Area_Urban': [0]\n",
    "}\n",
    "\n",
    "example_df = pd.DataFrame(example_data)\n",
    "example_df = scaler.transform(example_df)\n",
    "\n",
    "y_pred_proba = good_model.predict_proba(example_df)[:, 1] \n",
    "print(y_pred_proba)"
   ]
  },
  {
   "cell_type": "markdown",
   "id": "acec0b4c-4f33-4a0e-a58b-25a55864b8a5",
   "metadata": {},
   "source": [
    "Если человек не имеет семьи, тогда вероятность того, что он вернет кредит, уменьшается. Но не слишком критично"
   ]
  },
  {
   "cell_type": "code",
   "execution_count": 19,
   "id": "f00276f3-1bc7-4000-8067-2279475f355c",
   "metadata": {},
   "outputs": [
    {
     "name": "stdout",
     "output_type": "stream",
     "text": [
      "[0.30189825]\n"
     ]
    }
   ],
   "source": [
    "example_data = {\n",
    "'ApplicantIncome': \t[3000],\n",
    "'CoapplicantIncome': [0],\n",
    "'LoanAmount': [10],\n",
    "'Loan_Amount_Term': [360],\n",
    "'Credit_History': [0],\n",
    "'Gender_Male': [0],\n",
    "'Married_Yes': [1],\n",
    "'Dependents_1':\t[0],\n",
    "'Dependents_2': [0],\n",
    "'Dependents_3+': [1],\n",
    "'Education_Not Graduate': [1],\n",
    "'Self_Employed_Yes': [1],\n",
    "'Property_Area_Semiurban': [1],\t\n",
    "'Property_Area_Urban': [0]\n",
    "}\n",
    "\n",
    "example_df = pd.DataFrame(example_data)\n",
    "\n",
    "example_df = scaler.transform(example_df)\n",
    "\n",
    "\n",
    "y_pred_proba = good_model.predict_proba(example_df)[:, 1]  \n",
    "print(y_pred_proba)"
   ]
  },
  {
   "cell_type": "markdown",
   "id": "ccaf81d6-22fa-4c2b-b606-9bcc734dcdc5",
   "metadata": {},
   "source": [
    "А вот отсутствие кредитной истории моделью вопринимается крайне негативно, проседание более чем на 50%"
   ]
  },
  {
   "cell_type": "code",
   "execution_count": 20,
   "id": "c68e4ec2-dcc4-4308-9487-a90078c0827c",
   "metadata": {},
   "outputs": [
    {
     "name": "stdout",
     "output_type": "stream",
     "text": [
      "[0.37274098]\n"
     ]
    }
   ],
   "source": [
    "example_data = {\n",
    "'ApplicantIncome': \t[1000],\n",
    "'CoapplicantIncome': [100],\n",
    "'LoanAmount': [50],\n",
    "'Loan_Amount_Term': [600],\n",
    "'Credit_History': [0],\n",
    "'Gender_Male': [0],\n",
    "'Married_Yes': [1],\n",
    "'Dependents_1':\t[0],\n",
    "'Dependents_2': [0],\n",
    "'Dependents_3+': [1],\n",
    "'Education_Not Graduate': [0],\n",
    "'Self_Employed_Yes': [1],\n",
    "'Property_Area_Semiurban': [1],\t\n",
    "'Property_Area_Urban': [0]\n",
    "}\n",
    "\n",
    "example_df = pd.DataFrame(example_data)\n",
    "example_df = scaler.transform(example_df)\n",
    "\n",
    "y_pred_proba = good_model.predict_proba(example_df)[:, 1]  \n",
    "print(y_pred_proba)"
   ]
  },
  {
   "cell_type": "markdown",
   "id": "3609aa3a-5a76-41fb-a1be-c4c392fcdc7c",
   "metadata": {},
   "source": [
    "Наилучший результат у незнакомого для банка человека - 37% доверия от модели. Жестоко ли это? Да, безусловно. \n",
    "\n",
    "Плохая ли модель? Нет, модель как раз-таки хорошая, потому что 90% берущих кредит впервые не получают его. Соответственно, модель, можно так даже сказать, очень хорошо принимает во внимание положительные стороны кандидата. \n",
    "\n",
    "Если бы было больше данных, то можно было бы крутую модель, которая бы предсказывала бы, кто из новых клиентов скорее вернет кредит, а кто не вернет, но, увы, данных по новым клиентам всего 100 штук, тем более у нас еще и жесткий дизбаланс классов, правильных ответов (кому надо одобрить кредит) раз два и обчелся. "
   ]
  },
  {
   "cell_type": "code",
   "execution_count": 21,
   "id": "158887f7-1cc7-42a2-b0d6-86f11ce24e7b",
   "metadata": {},
   "outputs": [
    {
     "name": "stdout",
     "output_type": "stream",
     "text": [
      "[0.30239179]\n"
     ]
    }
   ],
   "source": [
    "example_data = {\n",
    "'ApplicantIncome': \t[1000],\n",
    "'CoapplicantIncome': [100],\n",
    "'LoanAmount': [500],\n",
    "'Loan_Amount_Term': [360],\n",
    "'Credit_History': [1],\n",
    "'Gender_Male': [1],\n",
    "'Married_Yes': [0],\n",
    "'Dependents_1':\t[1],\n",
    "'Dependents_2': [0],\n",
    "'Dependents_3+': [0],\n",
    "'Education_Not Graduate': [1],\n",
    "'Self_Employed_Yes': [0],\n",
    "'Property_Area_Semiurban': [0],\t\n",
    "'Property_Area_Urban': [0]\n",
    "}\n",
    "\n",
    "example_df = pd.DataFrame(example_data)\n",
    "example_df = scaler.transform(example_df)\n",
    "\n",
    "y_pred_proba = good_model.predict_proba(example_df)[:, 1] \n",
    "print(y_pred_proba)"
   ]
  },
  {
   "cell_type": "markdown",
   "id": "b781d178-84cf-4fb9-98b0-e771f633e37b",
   "metadata": {},
   "source": [
    "Отметим, что данный отсутствие кредитной истории - не приговор\n",
    "\n",
    "Хоть остальные признаки не так колоссально влияют на ответ модели, в совокупности слишком большой размер кредита, наличие ровно 1 ребенка, отсутствие статуса самозанятого и проживание в деревне может очень сильно снизить вероятность выдачи кредита. \n",
    "\n",
    "Выше представлен наихудший клиент, который при этом всем имеет кредитную историю, но которому скорее следует отказать в займе"
   ]
  },
  {
   "cell_type": "markdown",
   "id": "16184a1d-b403-4efa-9bc1-e577f00cf3de",
   "metadata": {},
   "source": [
    "### А вообще, давайте все-таки попробуем!"
   ]
  },
  {
   "cell_type": "code",
   "execution_count": 22,
   "id": "4ec19ddd-0660-4b11-854b-2772f0dded58",
   "metadata": {},
   "outputs": [],
   "source": [
    "data = pd.read_csv('dataset.csv')\n",
    "data['Gender'] = data['Gender'].fillna('Male')\n",
    "data['Married'] = data['Married'].fillna('Yes')\n",
    "data['Dependents'] = data['Dependents'].fillna('0')\n",
    "data['Self_Employed'] = data['Self_Employed'].fillna('No')\n",
    "data['LoanAmount'] = data['LoanAmount'].fillna(150)\n",
    "data['Loan_Amount_Term'] = data['Loan_Amount_Term'].fillna(360)\n",
    "data['Credit_History'] = data['Credit_History'].fillna(1)\n",
    "\n",
    "data = pd.get_dummies(data, columns=['Gender', 'Married','Dependents', 'Education','Self_Employed','Property_Area','Loan_Status'], drop_first = True)\n",
    "\n",
    "\n",
    "data_ = data[data['Credit_History'] == 1.0]\n",
    "\n",
    "y = data_['Loan_Status_Y']\n",
    "data_ = data_.drop(['Loan_Status_Y','Loan_ID'], axis = 1)\n",
    "x_train, x_test, y_train, y_test = train_test_split(data_, y, test_size = 0.3, random_state = 200)\n",
    "# Нормализация данных\n",
    "scaler = StandardScaler()\n",
    "x_train = scaler.fit_transform(x_train)\n",
    "x_test = scaler.transform(x_test)\n",
    "\n",
    "model = LogisticRegression() #создание модели\n",
    "model.fit(x_train, y_train) #обучение на тренировочном наборе\n",
    "\n",
    "# Получение вероятностей предсказаний\n",
    "y_pred_proba = model.predict_proba(x_test)[:, 1]  # Вероятности положительного класса"
   ]
  },
  {
   "cell_type": "code",
   "execution_count": 23,
   "id": "3d45e472-83da-4cdf-8ea7-944e9b9ba0d5",
   "metadata": {},
   "outputs": [
    {
     "name": "stdout",
     "output_type": "stream",
     "text": [
      "AUC-ROC: 0.6259487666034156\n",
      "Precision с порогом: 0.8533333333333334\n",
      "Recall с порогом: 0.5161290322580645\n"
     ]
    }
   ],
   "source": [
    "threshold = 0.81\n",
    "y_pred = (y_pred_proba >= threshold).astype(int)\n",
    "\n",
    "# Оценка модели\n",
    "roc_auc = roc_auc_score(y_test, y_pred_proba)\n",
    "print(f'AUC-ROC: {roc_auc}')\n",
    "\n",
    "precision = precision_score(y_test, y_pred)\n",
    "print(f'Precision с порогом: {precision}')\n",
    "\n",
    "recall = recall_score(y_test, y_pred)\n",
    "print(f'Recall с порогом: {recall}')"
   ]
  },
  {
   "cell_type": "markdown",
   "id": "f1e8b5cf-e6f5-473e-8315-1fb1d075ad2f",
   "metadata": {},
   "source": [
    "##### О! Что-то неплохое получилось! \n",
    "\n",
    "По прикидкам получается, что мы ловим ровно половину из тех, кто мог бы вернуть нам кредит, но при этом 85% из тех, кому мы одобряем кредит, его вернут (работник банка бы одобрил его). Соответственно, в нашем случае получается, что, условно, из сотни кандидатов мы отобрали 7 и 6 из них вернут нам кредит. \n",
    "\n",
    "Результат классный, потому что предыдущая модель обращала на них сильно меньше внимания и, чтобы учесть таких кандидатов, приходилось ставить низкий порог и жертвовать точностью. Теперь же мы можем использовать 2 модели для более четкой и чуткой выдачи кредитов!\n",
    "\n",
    "Как говорил кот Матроскин: \"У меня теперь две коровы есть!\" \n",
    "# 🐄🐄"
   ]
  },
  {
   "cell_type": "markdown",
   "id": "56224efe-b936-454a-85a8-6a5db61e3cf7",
   "metadata": {},
   "source": [
    "## Проанализируем результаты"
   ]
  },
  {
   "cell_type": "code",
   "execution_count": 24,
   "id": "cb1b8007-5910-4232-acd8-654c12b81f47",
   "metadata": {},
   "outputs": [
    {
     "data": {
      "image/png": "[encoded data removed]",
      "text/plain": [
       "<Figure size 500x400 with 1 Axes>"
      ]
     },
     "metadata": {},
     "output_type": "display_data"
    }
   ],
   "source": [
    "data = pd.read_csv('dataset.csv')\n",
    "\n",
    "data['Gender'] = data['Gender'].fillna('Male')\n",
    "data['Married'] = data['Married'].fillna('Yes')\n",
    "data['Dependents'] = data['Dependents'].fillna('0')\n",
    "data['Self_Employed'] = data['Self_Employed'].fillna('No')\n",
    "data['LoanAmount'] = data['LoanAmount'].fillna(150)\n",
    "data['Loan_Amount_Term'] = data['Loan_Amount_Term'].fillna(360)\n",
    "data['Credit_History'] = data['Credit_History'].fillna(1)\n",
    "\n",
    "data = pd.get_dummies(data, columns=['Gender', 'Married','Dependents', 'Education','Self_Employed','Property_Area','Loan_Status'], drop_first = True)\n",
    "data.head(1)\n",
    "\n",
    "data_ = data[data['Credit_History'] == 1]\n",
    "\n",
    "genre_counts = data_['Loan_Status_Y'].value_counts()\n",
    "plt.figure(figsize = (5, 4))  \n",
    "genre_counts.plot(kind = 'bar', color = 'skyblue')\n",
    "plt.xticks(rotation = 45)  \n",
    "plt.tight_layout() \n",
    "plt.show()"
   ]
  },
  {
   "cell_type": "code",
   "execution_count": 25,
   "id": "2bbfc43c-d9de-4801-b9df-d8ffe5fe4f83",
   "metadata": {},
   "outputs": [
    {
     "data": {
      "image/png": "[encoded data removed]",
      "text/plain": [
       "<Figure size 500x400 with 1 Axes>"
      ]
     },
     "metadata": {},
     "output_type": "display_data"
    }
   ],
   "source": [
    "data_ = data[data['Credit_History'] == 0]\n",
    "\n",
    "genre_counts = data_['Loan_Status_Y'].value_counts()\n",
    "plt.figure(figsize = (5, 4))  \n",
    "genre_counts.plot(kind = 'bar', color = 'skyblue')\n",
    "plt.xticks(rotation = 45)  \n",
    "plt.tight_layout() \n",
    "plt.show()"
   ]
  },
  {
   "cell_type": "markdown",
   "id": "7f65303d-9dd9-4250-b1e0-e83dbeaf478b",
   "metadata": {},
   "source": [
    "Как видно по графикам, те, кому банк выдал кредит впервые, с вероятностью в 90% не возвращают кредит. Неудивительно, что модель отдает такое предпочтение данному показателю.\n",
    "\n",
    "Другие данные не так сильно влияют на результат, но, тем не менее, все равно являются важными для модели."
   ]
  },
  {
   "cell_type": "markdown",
   "id": "1a5a22cf-4b4d-4903-ac08-a88515910378",
   "metadata": {},
   "source": [
    "## Подведем итоги для логистической регрессии"
   ]
  },
  {
   "cell_type": "markdown",
   "id": "f4a8f600-7f66-440e-aa40-7aeb64740206",
   "metadata": {},
   "source": [
    "Данную модель можно успешно использовать на реальных заемщиках, потому что её будет очень легко истрактовать:\n",
    "\n",
    "Наличие кредитной истории крайне важно для модели\n",
    "\n",
    "Жить по мнению модели лучше всего за городом, но не в деревне! При этом городскую среду она тоже считает подходящей, но не отдает ей большого предпочтения\n",
    "\n",
    "Сумма займа может быть слишком большой\n",
    "\n",
    "Число детей так же очень важно, по статистике бездетные и многодетные чаще возвращают кредиты, чем люди, имеющие только одного ребенка\n",
    "\n",
    "С женатыми аналогичная ситуация\n",
    "\n",
    "По мнению модели также лучше иметь какой-нибудь малый бизнес (быть самозанятым)\n",
    "\n",
    "Использовать лучше 2 разных модели: для тех, у кого есть кредитная история и для тех, у кого её нет. Прирост будет небольшим, но, все равно приятным\n",
    "\n",
    "Если возникают какие-то вопросы по поводу одобрения кредита - сотрудники банка могут сослаться на статистику и важность вышеперечисленных показателей\n",
    "\n"
   ]
  },
  {
   "cell_type": "markdown",
   "id": "f1a9548a-f022-4c17-bb9d-9b8c285e31d3",
   "metadata": {},
   "source": [
    "## Посмотрим, что скажет нам дерево"
   ]
  },
  {
   "cell_type": "code",
   "execution_count": 26,
   "id": "58d63bea-c7d2-4194-94c0-70899060707b",
   "metadata": {},
   "outputs": [
    {
     "data": {
      "text/html": [
       "<div>\n",
       "<style scoped>\n",
       "    .dataframe tbody tr th:only-of-type {\n",
       "        vertical-align: middle;\n",
       "    }\n",
       "\n",
       "    .dataframe tbody tr th {\n",
       "        vertical-align: top;\n",
       "    }\n",
       "\n",
       "    .dataframe thead th {\n",
       "        text-align: right;\n",
       "    }\n",
       "</style>\n",
       "<table border=\"1\" class=\"dataframe\">\n",
       "  <thead>\n",
       "    <tr style=\"text-align: right;\">\n",
       "      <th></th>\n",
       "      <th>Loan_ID</th>\n",
       "      <th>Gender</th>\n",
       "      <th>Married</th>\n",
       "      <th>Dependents</th>\n",
       "      <th>Education</th>\n",
       "      <th>Self_Employed</th>\n",
       "      <th>ApplicantIncome</th>\n",
       "      <th>CoapplicantIncome</th>\n",
       "      <th>LoanAmount</th>\n",
       "      <th>Loan_Amount_Term</th>\n",
       "      <th>Credit_History</th>\n",
       "      <th>Property_Area</th>\n",
       "      <th>Loan_Status</th>\n",
       "    </tr>\n",
       "  </thead>\n",
       "  <tbody>\n",
       "    <tr>\n",
       "      <th>0</th>\n",
       "      <td>LP001002</td>\n",
       "      <td>Male</td>\n",
       "      <td>No</td>\n",
       "      <td>0</td>\n",
       "      <td>Graduate</td>\n",
       "      <td>No</td>\n",
       "      <td>5849</td>\n",
       "      <td>0.0</td>\n",
       "      <td>NaN</td>\n",
       "      <td>360.0</td>\n",
       "      <td>1.0</td>\n",
       "      <td>Urban</td>\n",
       "      <td>Y</td>\n",
       "    </tr>\n",
       "    <tr>\n",
       "      <th>1</th>\n",
       "      <td>LP001003</td>\n",
       "      <td>Male</td>\n",
       "      <td>Yes</td>\n",
       "      <td>1</td>\n",
       "      <td>Graduate</td>\n",
       "      <td>No</td>\n",
       "      <td>4583</td>\n",
       "      <td>1508.0</td>\n",
       "      <td>128.0</td>\n",
       "      <td>360.0</td>\n",
       "      <td>1.0</td>\n",
       "      <td>Rural</td>\n",
       "      <td>N</td>\n",
       "    </tr>\n",
       "    <tr>\n",
       "      <th>2</th>\n",
       "      <td>LP001005</td>\n",
       "      <td>Male</td>\n",
       "      <td>Yes</td>\n",
       "      <td>0</td>\n",
       "      <td>Graduate</td>\n",
       "      <td>Yes</td>\n",
       "      <td>3000</td>\n",
       "      <td>0.0</td>\n",
       "      <td>66.0</td>\n",
       "      <td>360.0</td>\n",
       "      <td>1.0</td>\n",
       "      <td>Urban</td>\n",
       "      <td>Y</td>\n",
       "    </tr>\n",
       "    <tr>\n",
       "      <th>3</th>\n",
       "      <td>LP001006</td>\n",
       "      <td>Male</td>\n",
       "      <td>Yes</td>\n",
       "      <td>0</td>\n",
       "      <td>Not Graduate</td>\n",
       "      <td>No</td>\n",
       "      <td>2583</td>\n",
       "      <td>2358.0</td>\n",
       "      <td>120.0</td>\n",
       "      <td>360.0</td>\n",
       "      <td>1.0</td>\n",
       "      <td>Urban</td>\n",
       "      <td>Y</td>\n",
       "    </tr>\n",
       "    <tr>\n",
       "      <th>4</th>\n",
       "      <td>LP001008</td>\n",
       "      <td>Male</td>\n",
       "      <td>No</td>\n",
       "      <td>0</td>\n",
       "      <td>Graduate</td>\n",
       "      <td>No</td>\n",
       "      <td>6000</td>\n",
       "      <td>0.0</td>\n",
       "      <td>141.0</td>\n",
       "      <td>360.0</td>\n",
       "      <td>1.0</td>\n",
       "      <td>Urban</td>\n",
       "      <td>Y</td>\n",
       "    </tr>\n",
       "  </tbody>\n",
       "</table>\n",
       "</div>"
      ],
      "text/plain": [
       "    Loan_ID Gender Married Dependents     Education Self_Employed  \\\n",
       "0  LP001002   Male      No          0      Graduate            No   \n",
       "1  LP001003   Male     Yes          1      Graduate            No   \n",
       "2  LP001005   Male     Yes          0      Graduate           Yes   \n",
       "3  LP001006   Male     Yes          0  Not Graduate            No   \n",
       "4  LP001008   Male      No          0      Graduate            No   \n",
       "\n",
       "   ApplicantIncome  CoapplicantIncome  LoanAmount  Loan_Amount_Term  \\\n",
       "0             5849                0.0         NaN             360.0   \n",
       "1             4583             1508.0       128.0             360.0   \n",
       "2             3000                0.0        66.0             360.0   \n",
       "3             2583             2358.0       120.0             360.0   \n",
       "4             6000                0.0       141.0             360.0   \n",
       "\n",
       "   Credit_History Property_Area Loan_Status  \n",
       "0             1.0         Urban           Y  \n",
       "1             1.0         Rural           N  \n",
       "2             1.0         Urban           Y  \n",
       "3             1.0         Urban           Y  \n",
       "4             1.0         Urban           Y  "
      ]
     },
     "execution_count": 26,
     "metadata": {},
     "output_type": "execute_result"
    }
   ],
   "source": [
    "data = pd.read_csv('dataset.csv')\n",
    "data.head(5)"
   ]
  },
  {
   "cell_type": "code",
   "execution_count": 27,
   "id": "a797ed5c-f1b2-4822-b585-17a450fee306",
   "metadata": {},
   "outputs": [],
   "source": [
    "data['Gender'] = data['Gender'].fillna('Male')\n",
    "data['Married'] = data['Married'].fillna('Yes')\n",
    "data['Dependents'] = data['Dependents'].fillna('0')\n",
    "data['Self_Employed'] = data['Self_Employed'].fillna('No')\n",
    "data['LoanAmount'] = data['LoanAmount'].fillna(150)\n",
    "data['Loan_Amount_Term'] = data['Loan_Amount_Term'].fillna(360)\n",
    "data['Credit_History'] = data['Credit_History'].fillna(1)\n",
    "\n",
    "data = pd.get_dummies(data, columns=['Gender', 'Married','Dependents', 'Education','Self_Employed','Property_Area','Loan_Status'], drop_first = True)\n",
    "#data.head(1)\n",
    "\n",
    "y = data['Loan_Status_Y']\n",
    "data = data.drop(['Loan_Status_Y','Loan_ID'], axis = 1)"
   ]
  },
  {
   "cell_type": "code",
   "execution_count": 28,
   "id": "cf6b563f-2617-4ebe-8b91-3235a8b7a976",
   "metadata": {},
   "outputs": [
    {
     "name": "stdout",
     "output_type": "stream",
     "text": [
      "0.7674403356936794\n"
     ]
    }
   ],
   "source": [
    "x_train, x_test, y_train, y_test = train_test_split(data, y, test_size = 0.3, random_state = 14)\n",
    "\n",
    "model2 = DecisionTreeClassifier(max_depth = 3)\n",
    "model2.fit(x_train, y_train) \n",
    "y_pred_proba = model2.predict_proba(x_test)[:, 1]\n",
    "print(roc_auc_score(y_test, y_pred_proba))"
   ]
  },
  {
   "cell_type": "code",
   "execution_count": 29,
   "id": "6f81507f-8be0-4af9-8da6-5b5e5a42a674",
   "metadata": {},
   "outputs": [
    {
     "data": {
      "image/png": "[encoded data removed]",
      "text/plain": [
       "<Figure size 700x700 with 1 Axes>"
      ]
     },
     "metadata": {},
     "output_type": "display_data"
    }
   ],
   "source": [
    "plt.figure(figsize=(7, 7))\n",
    "a=plot_tree(model2)"
   ]
  },
  {
   "cell_type": "code",
   "execution_count": 30,
   "id": "8f712830-47c6-48a4-aae0-416e1b06cc90",
   "metadata": {},
   "outputs": [
    {
     "data": {
      "text/html": [
       "<div>\n",
       "<style scoped>\n",
       "    .dataframe tbody tr th:only-of-type {\n",
       "        vertical-align: middle;\n",
       "    }\n",
       "\n",
       "    .dataframe tbody tr th {\n",
       "        vertical-align: top;\n",
       "    }\n",
       "\n",
       "    .dataframe thead th {\n",
       "        text-align: right;\n",
       "    }\n",
       "</style>\n",
       "<table border=\"1\" class=\"dataframe\">\n",
       "  <thead>\n",
       "    <tr style=\"text-align: right;\">\n",
       "      <th></th>\n",
       "      <th>ApplicantIncome</th>\n",
       "      <th>CoapplicantIncome</th>\n",
       "      <th>LoanAmount</th>\n",
       "      <th>Loan_Amount_Term</th>\n",
       "      <th>Credit_History</th>\n",
       "      <th>Gender_Male</th>\n",
       "      <th>Married_Yes</th>\n",
       "      <th>Dependents_1</th>\n",
       "      <th>Dependents_2</th>\n",
       "      <th>Dependents_3+</th>\n",
       "      <th>Education_Not Graduate</th>\n",
       "      <th>Self_Employed_Yes</th>\n",
       "      <th>Property_Area_Semiurban</th>\n",
       "      <th>Property_Area_Urban</th>\n",
       "    </tr>\n",
       "  </thead>\n",
       "  <tbody>\n",
       "    <tr>\n",
       "      <th>0</th>\n",
       "      <td>5849</td>\n",
       "      <td>0.0</td>\n",
       "      <td>150.0</td>\n",
       "      <td>360.0</td>\n",
       "      <td>1.0</td>\n",
       "      <td>True</td>\n",
       "      <td>False</td>\n",
       "      <td>False</td>\n",
       "      <td>False</td>\n",
       "      <td>False</td>\n",
       "      <td>False</td>\n",
       "      <td>False</td>\n",
       "      <td>False</td>\n",
       "      <td>True</td>\n",
       "    </tr>\n",
       "    <tr>\n",
       "      <th>1</th>\n",
       "      <td>4583</td>\n",
       "      <td>1508.0</td>\n",
       "      <td>128.0</td>\n",
       "      <td>360.0</td>\n",
       "      <td>1.0</td>\n",
       "      <td>True</td>\n",
       "      <td>True</td>\n",
       "      <td>True</td>\n",
       "      <td>False</td>\n",
       "      <td>False</td>\n",
       "      <td>False</td>\n",
       "      <td>False</td>\n",
       "      <td>False</td>\n",
       "      <td>False</td>\n",
       "    </tr>\n",
       "    <tr>\n",
       "      <th>2</th>\n",
       "      <td>3000</td>\n",
       "      <td>0.0</td>\n",
       "      <td>66.0</td>\n",
       "      <td>360.0</td>\n",
       "      <td>1.0</td>\n",
       "      <td>True</td>\n",
       "      <td>True</td>\n",
       "      <td>False</td>\n",
       "      <td>False</td>\n",
       "      <td>False</td>\n",
       "      <td>False</td>\n",
       "      <td>True</td>\n",
       "      <td>False</td>\n",
       "      <td>True</td>\n",
       "    </tr>\n",
       "    <tr>\n",
       "      <th>3</th>\n",
       "      <td>2583</td>\n",
       "      <td>2358.0</td>\n",
       "      <td>120.0</td>\n",
       "      <td>360.0</td>\n",
       "      <td>1.0</td>\n",
       "      <td>True</td>\n",
       "      <td>True</td>\n",
       "      <td>False</td>\n",
       "      <td>False</td>\n",
       "      <td>False</td>\n",
       "      <td>True</td>\n",
       "      <td>False</td>\n",
       "      <td>False</td>\n",
       "      <td>True</td>\n",
       "    </tr>\n",
       "    <tr>\n",
       "      <th>4</th>\n",
       "      <td>6000</td>\n",
       "      <td>0.0</td>\n",
       "      <td>141.0</td>\n",
       "      <td>360.0</td>\n",
       "      <td>1.0</td>\n",
       "      <td>True</td>\n",
       "      <td>False</td>\n",
       "      <td>False</td>\n",
       "      <td>False</td>\n",
       "      <td>False</td>\n",
       "      <td>False</td>\n",
       "      <td>False</td>\n",
       "      <td>False</td>\n",
       "      <td>True</td>\n",
       "    </tr>\n",
       "  </tbody>\n",
       "</table>\n",
       "</div>"
      ],
      "text/plain": [
       "   ApplicantIncome  CoapplicantIncome  LoanAmount  Loan_Amount_Term  \\\n",
       "0             5849                0.0       150.0             360.0   \n",
       "1             4583             1508.0       128.0             360.0   \n",
       "2             3000                0.0        66.0             360.0   \n",
       "3             2583             2358.0       120.0             360.0   \n",
       "4             6000                0.0       141.0             360.0   \n",
       "\n",
       "   Credit_History  Gender_Male  Married_Yes  Dependents_1  Dependents_2  \\\n",
       "0             1.0         True        False         False         False   \n",
       "1             1.0         True         True          True         False   \n",
       "2             1.0         True         True         False         False   \n",
       "3             1.0         True         True         False         False   \n",
       "4             1.0         True        False         False         False   \n",
       "\n",
       "   Dependents_3+  Education_Not Graduate  Self_Employed_Yes  \\\n",
       "0          False                   False              False   \n",
       "1          False                   False              False   \n",
       "2          False                   False               True   \n",
       "3          False                    True              False   \n",
       "4          False                   False              False   \n",
       "\n",
       "   Property_Area_Semiurban  Property_Area_Urban  \n",
       "0                    False                 True  \n",
       "1                    False                False  \n",
       "2                    False                 True  \n",
       "3                    False                 True  \n",
       "4                    False                 True  "
      ]
     },
     "execution_count": 30,
     "metadata": {},
     "output_type": "execute_result"
    }
   ],
   "source": [
    "data.head()"
   ]
  },
  {
   "cell_type": "markdown",
   "id": "6ab32dce-1f44-47f8-b484-ec00f296aec9",
   "metadata": {},
   "source": [
    "Видно, что основное деление дерево проводит по наличию кредитной истории, а также пытается учесть заработную плату и место проживания. Результат в 78% в целом вполне не плох. Трактовка решения модели весьма простая - если есть кредитная история, то скорее всего кандидат нам подходит. Если же нет, то нужно учесть еще его место проживания. "
   ]
  },
  {
   "cell_type": "markdown",
   "id": "4fa801ce-9548-47f7-a26b-dcf084a85576",
   "metadata": {},
   "source": [
    "## Случайный лес"
   ]
  },
  {
   "cell_type": "code",
   "execution_count": 31,
   "id": "122c351f-99d1-4c06-a2a6-d7362a0bae5e",
   "metadata": {},
   "outputs": [
    {
     "name": "stdout",
     "output_type": "stream",
     "text": [
      "0.7898163377192983\n"
     ]
    }
   ],
   "source": [
    "data = pd.read_csv('dataset.csv')\n",
    "\n",
    "data['Gender'] = data['Gender'].fillna('Male')\n",
    "data['Married'] = data['Married'].fillna('Yes')\n",
    "data['Dependents'] = data['Dependents'].fillna('0')\n",
    "data['Self_Employed'] = data['Self_Employed'].fillna('No')\n",
    "data['LoanAmount'] = data['LoanAmount'].fillna(150)\n",
    "data['Loan_Amount_Term'] = data['Loan_Amount_Term'].fillna(360)\n",
    "data['Credit_History'] = data['Credit_History'].fillna(1)\n",
    "\n",
    "data = pd.get_dummies(data, columns=['Gender', 'Married','Dependents', 'Education','Self_Employed','Property_Area','Loan_Status'], drop_first = True)\n",
    "#data.head(1)\n",
    "\n",
    "y = data['Loan_Status_Y']\n",
    "data = data.drop(['Loan_Status_Y','Loan_ID'], axis = 1)\n",
    "\n",
    "\n",
    "\n",
    "x_train, x_test, y_train, y_test = train_test_split(data, y, test_size = 0.3, random_state = 6)\n",
    "model3 = RandomForestClassifier(n_estimators = 90, max_depth = 3)\n",
    "model3.fit(x_train, y_train)\n",
    "\n",
    "# Предсказание вероятностей для ROC AUC\n",
    "y_pred_proba = model3.predict_proba(x_test)[:, 1]\n",
    "print(roc_auc_score(y_test, y_pred_proba))"
   ]
  },
  {
   "cell_type": "markdown",
   "id": "5eeac3fe-dbbb-4bb8-8b35-e3c9bb5c2df3",
   "metadata": {},
   "source": [
    "Случайный лес учитывает мнение множества деревьев, в целом видно, что показатель ROC-AUC немного подрос. Трактовка модели все еще допускает ссылку на наиболее важные показатели, так как по сути ничего сложнее деревьев решений тут не используется."
   ]
  },
  {
   "cell_type": "markdown",
   "id": "15c30c5f-81e6-4751-9155-a6220e65503d",
   "metadata": {},
   "source": [
    "##### Клиенту, которому скорее следует выдать займ, случайный лес вполне готов дать кредит"
   ]
  },
  {
   "cell_type": "code",
   "execution_count": 32,
   "id": "6c5cdcb6-c857-4578-ae9d-c74425142956",
   "metadata": {},
   "outputs": [
    {
     "name": "stdout",
     "output_type": "stream",
     "text": [
      "[0.78441935]\n"
     ]
    }
   ],
   "source": [
    "example_data = {\n",
    "'ApplicantIncome': \t[3000],\n",
    "'CoapplicantIncome': [500],\n",
    "'LoanAmount': [100],\n",
    "'Loan_Amount_Term': [360],\n",
    "'Credit_History': [1],\n",
    "'Gender_Male': [0],\n",
    "'Married_Yes': [1],\n",
    "'Dependents_1':\t[0],\n",
    "'Dependents_2': [1],\n",
    "'Dependents_3+': [0],\n",
    "'Education_Not Graduate': [0],\n",
    "'Self_Employed_Yes': [1],\n",
    "'Property_Area_Semiurban': [1],\t\n",
    "'Property_Area_Urban': [0]\n",
    "}\n",
    "\n",
    "example_df = pd.DataFrame(example_data)\n",
    "y_pred_proba = model3.predict_proba(example_df)[:, 1] \n",
    "print(y_pred_proba)"
   ]
  },
  {
   "cell_type": "markdown",
   "id": "b261826e-6467-42d7-ae7c-fda5c040e690",
   "metadata": {},
   "source": [
    "## Catboost (стельба из пушки по воробьям)"
   ]
  },
  {
   "cell_type": "code",
   "execution_count": 33,
   "id": "7012c1fc-3b1a-4944-a1a8-1178ed72e274",
   "metadata": {},
   "outputs": [
    {
     "name": "stdout",
     "output_type": "stream",
     "text": [
      "0:\tlearn: 0.6610778\ttotal: 146ms\tremaining: 1.31s\n",
      "9:\tlearn: 0.5121582\ttotal: 154ms\tremaining: 0us\n",
      "ROC AUC: 0.7425333333333334\n"
     ]
    }
   ],
   "source": [
    "data = pd.read_csv('dataset.csv')\n",
    "\n",
    "data['Gender'] = data['Gender'].fillna('Male')\n",
    "data['Married'] = data['Married'].fillna('Yes')\n",
    "data['Dependents'] = data['Dependents'].fillna('0')\n",
    "data['Self_Employed'] = data['Self_Employed'].fillna('No')\n",
    "data['LoanAmount'] = data['LoanAmount'].fillna(150)\n",
    "data['Loan_Amount_Term'] = data['Loan_Amount_Term'].fillna(360)\n",
    "data['Credit_History'] = data['Credit_History'].fillna(1)\n",
    "\n",
    "data = pd.get_dummies(data, columns=['Gender', 'Married','Dependents', 'Education','Self_Employed','Property_Area','Loan_Status'], drop_first = True)\n",
    "#data.head(1)\n",
    "\n",
    "y = data['Loan_Status_Y']\n",
    "data = data.drop(['Loan_Status_Y','Loan_ID'], axis = 1)\n",
    "\n",
    "x_train, x_test, y_train, y_test = train_test_split(data, y, test_size = 0.3, random_state = 200)\n",
    "model4 = CatBoostClassifier(iterations = 10, learning_rate=0.1, depth = 5, verbose=100, random_state = 200)\n",
    "\n",
    "model4.fit(x_train, y_train)\n",
    "\n",
    "y_pred_proba = model4.predict_proba(x_test)[:, 1]\n",
    "roc_auc = roc_auc_score(y_test, y_pred_proba)\n",
    "\n",
    "print(f'ROC AUC: {roc_auc}')"
   ]
  },
  {
   "cell_type": "markdown",
   "id": "870aabfe-b8d1-406e-85f8-4d645fe3150a",
   "metadata": {},
   "source": [
    "Гиперпараметры явно подобраны не очень хорошо, кэтбуст явно может лучше"
   ]
  },
  {
   "cell_type": "markdown",
   "id": "800a24dc-d370-4a36-99fd-cb0247722459",
   "metadata": {},
   "source": [
    "### Попробуем найти что-то вроде максимума ключевого показателя"
   ]
  },
  {
   "cell_type": "code",
   "execution_count": 34,
   "id": "1b7cfe13-31cf-40cd-bfee-c8889ea0048c",
   "metadata": {},
   "outputs": [
    {
     "name": "stdout",
     "output_type": "stream",
     "text": [
      "ROC AUC: (0.8387407407407408, 88)\n"
     ]
    }
   ],
   "source": [
    "x_train, x_test, y_train, y_test = train_test_split(data, y, test_size = 0.3, random_state = 2000)\n",
    "m_roc = 0\n",
    "j = 0\n",
    "for i in range(100):\n",
    "    model4 = CatBoostClassifier(iterations = 20, learning_rate=0.1, depth = 10, verbose=0, random_state = i)\n",
    "    \n",
    "    model4.fit(x_train, y_train)\n",
    "    \n",
    "    y_pred_proba = model4.predict_proba(x_test)[:, 1] \n",
    "    \n",
    "    roc_auc = roc_auc_score(y_test, y_pred_proba)\n",
    "    if m_roc < roc_auc:\n",
    "        m_roc = roc_auc\n",
    "        j = i\n",
    "\n",
    "print(f'ROC AUC: {m_roc, j}')"
   ]
  },
  {
   "cell_type": "code",
   "execution_count": 35,
   "id": "5f948b72-49c6-45d5-8859-c15436d944ff",
   "metadata": {},
   "outputs": [
    {
     "name": "stdout",
     "output_type": "stream",
     "text": [
      "ROC AUC: (0.7759783183500794, 0)\n"
     ]
    }
   ],
   "source": [
    "for k in range(100):\n",
    "    x_train, x_test, y_train, y_test = train_test_split(data, y, test_size = 0.3, random_state = k)\n",
    "    m_roc = 0\n",
    "    j = 0\n",
    "    for i in range(3):\n",
    "        model4 = CatBoostClassifier(iterations = 20, learning_rate=0.1, depth = 10, verbose=0, random_state = i)\n",
    "        \n",
    "        model4.fit(x_train, y_train)\n",
    "        \n",
    "        y_pred_proba = model4.predict_proba(x_test)[:, 1] \n",
    "        \n",
    "        roc_auc = roc_auc_score(y_test, y_pred_proba)\n",
    "        if m_roc < roc_auc:\n",
    "            m_roc = roc_auc\n",
    "            j = i\n",
    "\n",
    "print(f'ROC AUC: {m_roc, j}')"
   ]
  },
  {
   "cell_type": "markdown",
   "id": "25f01ca3-4363-4758-aa16-36904f1480b8",
   "metadata": {},
   "source": [
    "Вероятно предел наших мечтаний -  ROC_AUC = 0.85, видно, что даже 0.83 удается получить только при удачном разбиении данных и, вероятно, больше чем 0.85 выбить не получится. Более того, достаточно часто в данной задаче Catboost показывает результаты не сильно лучше, чем случайный лес. "
   ]
  },
  {
   "cell_type": "markdown",
   "id": "e61f9fe7-934e-4dcd-88fb-38964faea973",
   "metadata": {},
   "source": [
    "# 🎉 Выводы!"
   ]
  },
  {
   "cell_type": "markdown",
   "id": "23ff1766-54ce-4447-9322-f3015414ffd4",
   "metadata": {},
   "source": [
    "Все наши построенные модели удовлетворяют бейзлайну, обозначенному в первом ноутбуке. \n",
    "\n",
    "Использовать, вероятно, лучше случайный лес ну или же хитро составленную логистическую регрессию. Кэтуст, конечно, показал наилучшие результаты, но проблема в том, что он неинтерпретируемый. Для оценки его работы следует вручную просмотреть все его ответы и попытаться понять, как объяснить каждому клиенту вынесенный вердикт. А вот с деревьями и логистическими регрессиями все сильно проще.\n",
    "\n",
    "При трактовке решений модели можно пользоваться выводами выше (подойдут как выводы для логистической регрессии, так и для деревьев)./"
   ]
  },
  {
   "cell_type": "code",
   "execution_count": null,
   "id": "96a0f15c-fe06-46cd-8eff-933ddebb7baa",
   "metadata": {},
   "outputs": [],
   "source": []
  }
 ],
 "metadata": {
  "kernelspec": {
   "display_name": "Python 3 (ipykernel)",
   "language": "python",
   "name": "python3"
  },
  "language_info": {
   "codemirror_mode": {
    "name": "ipython",
    "version": 3
   },
   "file_extension": ".py",
   "mimetype": "text/x-python",
   "name": "python",
   "nbconvert_exporter": "python",
   "pygments_lexer": "ipython3",
   "version": "3.12.7"
  }
 },
 "nbformat": 4,
 "nbformat_minor": 5
}
